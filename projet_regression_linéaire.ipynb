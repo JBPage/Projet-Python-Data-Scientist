{
 "cells": [
  {
   "cell_type": "code",
   "execution_count": 1,
   "metadata": {},
   "outputs": [],
   "source": [
    "import bs4\n",
    "import pandas as pd\n",
    "from urllib import request\n",
    "import re\n",
    "import matplotlib.pyplot as plt\n",
    "import numpy as np\n",
    "import ast\n",
    "import sklearn"
   ]
  },
  {
   "cell_type": "code",
   "execution_count": 2,
   "metadata": {},
   "outputs": [],
   "source": [
    "from sklearn.linear_model import LinearRegression\n",
    "from sklearn.model_selection import train_test_split\n",
    "import sklearn.metrics"
   ]
  },
  {
   "cell_type": "code",
   "execution_count": 23,
   "metadata": {
    "scrolled": true
   },
   "outputs": [],
   "source": [
    "df_series=pd.read_csv('C:/Users/Jean-Baptiste/OneDrive/ENSAE/projet_python_data_reg.csv')\n"
   ]
  },
  {
   "cell_type": "code",
   "execution_count": 4,
   "metadata": {},
   "outputs": [],
   "source": [
    "#on élimine la colonne Unnamed et on remet Genre sous forme de liste\n",
    "df_series=df_series.drop(['Unnamed: 0'],axis=1)\n",
    "df_series['Genre']=df_series['Genre'].apply(ast.literal_eval)"
   ]
  },
  {
   "cell_type": "code",
   "execution_count": 5,
   "metadata": {},
   "outputs": [
    {
     "data": {
      "text/plain": [
       "True"
      ]
     },
     "execution_count": 5,
     "metadata": {},
     "output_type": "execute_result"
    }
   ],
   "source": [
    "1 in df_series['series_anthologique']"
   ]
  },
  {
   "cell_type": "code",
   "execution_count": 6,
   "metadata": {},
   "outputs": [],
   "source": [
    "def row_value(df, column, value):\n",
    "    L=[]\n",
    "    for k in range(len(df)):\n",
    "        if df.loc[k,column]==value:\n",
    "            L.append(k)\n",
    "    return(L)\n"
   ]
  },
  {
   "cell_type": "markdown",
   "metadata": {},
   "source": [
    "On aura besoin de la durée et de la saison. Cependant en raison du nombre important de pays qui n'ont qu'une série dans ce classement, et du fait que cette variable ne se base que sur l'origine de la plateforme de diffusion, ce qui la rend assez douteuse, on ne l'incluera pas dans la régression."
   ]
  },
  {
   "cell_type": "code",
   "execution_count": 7,
   "metadata": {},
   "outputs": [],
   "source": [
    "df_series_reg=df_series.copy()\n",
    "df_series_reg=df_series_reg.drop(labels=row_value(df_series, 'Durée', 'Inconnue'))\n",
    "df_series_reg['Durée']=df_series_reg['Durée'].astype('float')"
   ]
  },
  {
   "cell_type": "code",
   "execution_count": 8,
   "metadata": {},
   "outputs": [],
   "source": [
    "#pour faire une régression sur une variable non numérique, on crée des variable binaires associées aux valeurs de la variables d'origine\n",
    "for saison in ['printemps','été','automne','hiver']:\n",
    "    df_series_reg[saison+'_bin']=df_series_reg['Saison'].apply(lambda x: float(x==saison))"
   ]
  },
  {
   "cell_type": "code",
   "execution_count": 9,
   "metadata": {
    "scrolled": true
   },
   "outputs": [
    {
     "data": {
      "text/plain": [
       "Index(['Nom', 'Note', 'Auteur', 'Genre', 'Nombre de saisons', 'Plateforme',\n",
       "       'Durée', 'Date de sortie', 'Mois', 'Année', 'Saison', 'Pays',\n",
       "       'series_policier', 'series_drame', 'series_thriller',\n",
       "       'series_épouvante-horreur', 'series_mini-série', 'series_guerre',\n",
       "       'series_action', 'series_historique', 'series_aventure',\n",
       "       'series_fantasy', 'series_comédie', 'series_animation',\n",
       "       'series_jeunesse', 'series_documentaire', 'series_dramatique',\n",
       "       'series_romance', 'series_shōnen', 'series_seinen',\n",
       "       'series_fantastique', 'series_science-fiction', 'series_sport',\n",
       "       'series_biopic', 'series_musique', 'series_anthologique',\n",
       "       'series_judiciaire', 'series_western', 'series_médical',\n",
       "       'series_télé-réalité', 'printemps_bin', 'été_bin', 'automne_bin',\n",
       "       'hiver_bin'],\n",
       "      dtype='object')"
      ]
     },
     "execution_count": 9,
     "metadata": {},
     "output_type": "execute_result"
    }
   ],
   "source": [
    "df_series_reg.columns"
   ]
  },
  {
   "cell_type": "markdown",
   "metadata": {},
   "source": [
    "On doit diviser le df en deux sous df, le 1er servira à l'entrainement du modèle, le second à la prédiction. Les deux sont formés aléatoirement. "
   ]
  },
  {
   "cell_type": "code",
   "execution_count": 10,
   "metadata": {},
   "outputs": [],
   "source": [
    "df_series_reg1=df_series_reg[['Note','Durée','series_policier', 'series_drame', 'series_thriller',\n",
    "       'series_épouvante-horreur', 'series_mini-série', 'series_guerre',\n",
    "       'series_action', 'series_historique', 'series_aventure',\n",
    "       'series_fantasy', 'series_comédie', 'series_animation',\n",
    "       'series_jeunesse', 'series_documentaire', 'series_dramatique',\n",
    "       'series_romance', 'series_shōnen', 'series_seinen',\n",
    "       'series_fantastique', 'series_science-fiction', 'series_sport',\n",
    "       'series_biopic', 'series_musique', 'series_anthologique',\n",
    "       'series_judiciaire', 'series_western', 'series_médical',\n",
    "       'series_télé-réalité', 'printemps_bin', 'été_bin', 'automne_bin',\n",
    "       'hiver_bin']]"
   ]
  },
  {
   "cell_type": "code",
   "execution_count": 11,
   "metadata": {
    "scrolled": true
   },
   "outputs": [],
   "source": [
    "# #on divise l'échantillon entre la partie qui va entrainer le modèle et celle qui devra le valider\n",
    "X_train, X_test, y_train, y_test = train_test_split(\n",
    "    df_series_reg1.drop(['Note'], axis = 1),\n",
    "    df_series_reg1[['Note']].values.ravel(), test_size=0.2, random_state=0)\n",
    "\n",
    "#on entraine notre modèle\n",
    "ols = LinearRegression().fit(X_train, y_train)\n",
    "y_pred= ols.predict(X_test)"
   ]
  },
  {
   "cell_type": "code",
   "execution_count": 12,
   "metadata": {},
   "outputs": [
    {
     "name": "stdout",
     "output_type": "stream",
     "text": [
      "6.6429531183454715 [ 0.00436189 -0.09770576  0.04409422  0.14177654 -0.32584413  0.27756635\n",
      "  0.39075759 -0.19727762  0.23218759 -0.00224524 -0.23999878 -0.00511659\n",
      "  0.40452802  0.18665319  0.92331016 -0.31324095 -0.32116194  0.60532482\n",
      "  0.49422076  0.01127261 -0.30672901  0.56298259 -0.52461788 -0.02254473\n",
      "  0.94912489  0.46230816  0.76901253  0.31355242 -0.50265709  0.14652745\n",
      " -0.11442757 -0.12753519  0.09543532]\n"
     ]
    }
   ],
   "source": [
    "print(ols.intercept_, ols.coef_)"
   ]
  },
  {
   "cell_type": "code",
   "execution_count": 13,
   "metadata": {},
   "outputs": [],
   "source": [
    "var=['Durée','series_policier', 'series_drame', 'series_thriller',\n",
    "       'series_épouvante-horreur', 'series_mini-série', 'series_guerre',\n",
    "       'series_action', 'series_historique', 'series_aventure',\n",
    "       'series_fantasy', 'series_comédie', 'series_animation',\n",
    "       'series_jeunesse', 'series_documentaire', 'series_dramatique',\n",
    "       'series_romance', 'series_shōnen', 'series_seinen',\n",
    "       'series_fantastique', 'series_science-fiction', 'series_sport',\n",
    "       'series_biopic', 'series_musique', 'series_anthologique',\n",
    "       'series_judiciaire', 'series_western', 'series_médical',\n",
    "       'series_télé-réalité', 'printemps_bin', 'été_bin', 'automne_bin',\n",
    "       'hiver_bin']"
   ]
  },
  {
   "cell_type": "code",
   "execution_count": 14,
   "metadata": {},
   "outputs": [
    {
     "name": "stdout",
     "output_type": "stream",
     "text": [
      "le coefficient de la régression associée à Durée est 0.00\n",
      "le coefficient de la régression associée à series_policier est -0.10\n",
      "le coefficient de la régression associée à series_drame est 0.04\n",
      "le coefficient de la régression associée à series_thriller est 0.14\n",
      "le coefficient de la régression associée à series_épouvante-horreur est -0.33\n",
      "le coefficient de la régression associée à series_mini-série est 0.28\n",
      "le coefficient de la régression associée à series_guerre est 0.39\n",
      "le coefficient de la régression associée à series_action est -0.20\n",
      "le coefficient de la régression associée à series_historique est 0.23\n",
      "le coefficient de la régression associée à series_aventure est -0.00\n",
      "le coefficient de la régression associée à series_fantasy est -0.24\n",
      "le coefficient de la régression associée à series_comédie est -0.01\n",
      "le coefficient de la régression associée à series_animation est 0.40\n",
      "le coefficient de la régression associée à series_jeunesse est 0.19\n",
      "le coefficient de la régression associée à series_documentaire est 0.92\n",
      "le coefficient de la régression associée à series_dramatique est -0.31\n",
      "le coefficient de la régression associée à series_romance est -0.32\n",
      "le coefficient de la régression associée à series_shōnen est 0.61\n",
      "le coefficient de la régression associée à series_seinen est 0.49\n",
      "le coefficient de la régression associée à series_fantastique est 0.01\n",
      "le coefficient de la régression associée à series_science-fiction est -0.31\n",
      "le coefficient de la régression associée à series_sport est 0.56\n",
      "le coefficient de la régression associée à series_biopic est -0.52\n",
      "le coefficient de la régression associée à series_musique est -0.02\n",
      "le coefficient de la régression associée à series_anthologique est 0.95\n",
      "le coefficient de la régression associée à series_judiciaire est 0.46\n",
      "le coefficient de la régression associée à series_western est 0.77\n",
      "le coefficient de la régression associée à series_médical est 0.31\n",
      "le coefficient de la régression associée à series_télé-réalité est -0.50\n",
      "le coefficient de la régression associée à printemps_bin est 0.15\n",
      "le coefficient de la régression associée à été_bin est -0.11\n",
      "le coefficient de la régression associée à automne_bin est -0.13\n",
      "le coefficient de la régression associée à hiver_bin est 0.10\n"
     ]
    }
   ],
   "source": [
    "for k in range(len(var)):\n",
    "    print('le coefficient de la régression associée à '+var[k]+' est %.2f'\n",
    "          % ols.coef_[k])"
   ]
  },
  {
   "cell_type": "markdown",
   "metadata": {},
   "source": [
    "On observe que:"
   ]
  },
  {
   "cell_type": "markdown",
   "metadata": {},
   "source": [
    "La note varie autour de 6.64 (terme constant), ce qui reflète les notes assez élevées des séries du df"
   ]
  },
  {
   "cell_type": "markdown",
   "metadata": {},
   "source": [
    "La durée a une influence presque négligeable sur la note (inférieur à 0.01)."
   ]
  },
  {
   "cell_type": "markdown",
   "metadata": {},
   "source": [
    "Le genre a des effets différents: les genres épouvante-horreur, télé-réalité et biopic semblent être assez pénalisant pour la note tandis qu'être un western, un shounen ou une anthologie bonnifient grandement la note. Cependant on remarque que les genres ayant le plus d'impact au niveau de la régression sont aussi ceux apparaissant le moins. Il faut donc être prudent quant aux conclusions que cela peut induire."
   ]
  },
  {
   "cell_type": "markdown",
   "metadata": {},
   "source": [
    "Au contraire, les genres les plus répandus (comédie, drame) ont une influence absolue négligeable quant à la note."
   ]
  },
  {
   "cell_type": "markdown",
   "metadata": {},
   "source": [
    "Entre ces deux états, on observe des genres représentés mais non surreprésentés, dont le coefficient dans la régression est non négligeable comme l'animation, l'action et le thriller, sans être aussi grand (en va) que ceux des critères 'rares'."
   ]
  },
  {
   "cell_type": "markdown",
   "metadata": {},
   "source": [
    "La saison de diffusion a une influence plus faible que le(s) genre(s) d'une série mais non négligeable. Il apparait dans ce sens que les séries sortie en hiver et printemps sont mieux appéciées que celles qui sortent en été/automne "
   ]
  },
  {
   "cell_type": "code",
   "execution_count": 15,
   "metadata": {},
   "outputs": [
    {
     "name": "stdout",
     "output_type": "stream",
     "text": [
      "Mean squared error: 0.58\n",
      "Coefficient of determination: 0.21\n"
     ]
    }
   ],
   "source": [
    "rmse = sklearn.metrics.mean_squared_error(y_test, y_pred)\n",
    "rsq = sklearn.metrics.r2_score(y_test, y_pred) \n",
    "\n",
    "print('Mean squared error: %.2f'\n",
    "      % rmse)\n",
    "print('Coefficient of determination: %.2f'\n",
    "      % rsq)\n",
    "      "
   ]
  },
  {
   "cell_type": "markdown",
   "metadata": {},
   "source": [
    "Cependant cela fait beucoup de variable pour une régression, on peut retirer la date (qui n'a presque aucune influence comme on vient de le voir). On peut essayer de retirer également les variables de genres qui n'apparaissent pas beaucoup dans l'échantillon de séries ce qui peut biaiser leur importance dans la note. "
   ]
  },
  {
   "cell_type": "markdown",
   "metadata": {},
   "source": [
    "Que se passe-t-il si on retire les genres les plus rares ? (ce qui peut être fait puisque toutes les séries auront au moins un autre genre pour déterminer la note)"
   ]
  },
  {
   "cell_type": "code",
   "execution_count": 16,
   "metadata": {},
   "outputs": [],
   "source": [
    "#liste des genres rares\n",
    "genres_r=['télé-réalité','médical','western', 'judiciaire', 'biopic', 'sport', 'musique','anthologique']\n",
    "labels=['series_'+k for k in genres_r]"
   ]
  },
  {
   "cell_type": "code",
   "execution_count": 17,
   "metadata": {},
   "outputs": [],
   "source": [
    "df_series_reg3=df_series_reg1.copy()\n",
    "df_series_reg3=df_series_reg3.drop(labels, axis=1)\n",
    "df_series_reg3=df_series_reg3.drop('Durée', axis=1)\n"
   ]
  },
  {
   "cell_type": "code",
   "execution_count": 18,
   "metadata": {},
   "outputs": [],
   "source": [
    "var2=df_series_reg3.columns[1:]"
   ]
  },
  {
   "cell_type": "code",
   "execution_count": 19,
   "metadata": {},
   "outputs": [],
   "source": [
    "X_train, X_test, y_train, y_test = train_test_split(\n",
    "    df_series_reg3.drop(['Note'], axis = 1),\n",
    "    df_series_reg3[['Note']].values.ravel(), test_size=0.2, random_state=0)\n",
    "\n",
    "ols = LinearRegression().fit(X_train, y_train)\n",
    "y_pred = ols.predict(X_test)"
   ]
  },
  {
   "cell_type": "code",
   "execution_count": 20,
   "metadata": {},
   "outputs": [
    {
     "name": "stdout",
     "output_type": "stream",
     "text": [
      "6.859964006897895 [-0.0867424   0.05182416  0.22996752 -0.28572463  0.25917686  0.41953594\n",
      " -0.20179283  0.17113166 -0.020461   -0.25731633 -0.0763904   0.33417027\n",
      "  0.1729281   0.84039822 -0.33357361 -0.34273199  0.5596293   0.44972813\n",
      " -0.00325573 -0.28638032  0.12247697 -0.1270712  -0.12419993  0.12879415]\n"
     ]
    }
   ],
   "source": [
    "print(ols.intercept_, ols.coef_)"
   ]
  },
  {
   "cell_type": "code",
   "execution_count": 21,
   "metadata": {},
   "outputs": [
    {
     "name": "stdout",
     "output_type": "stream",
     "text": [
      "le coefficient de la régression associée à series_policier est -0.09\n",
      "le coefficient de la régression associée à series_drame est 0.05\n",
      "le coefficient de la régression associée à series_thriller est 0.23\n",
      "le coefficient de la régression associée à series_épouvante-horreur est -0.29\n",
      "le coefficient de la régression associée à series_mini-série est 0.26\n",
      "le coefficient de la régression associée à series_guerre est 0.42\n",
      "le coefficient de la régression associée à series_action est -0.20\n",
      "le coefficient de la régression associée à series_historique est 0.17\n",
      "le coefficient de la régression associée à series_aventure est -0.02\n",
      "le coefficient de la régression associée à series_fantasy est -0.26\n",
      "le coefficient de la régression associée à series_comédie est -0.08\n",
      "le coefficient de la régression associée à series_animation est 0.33\n",
      "le coefficient de la régression associée à series_jeunesse est 0.17\n",
      "le coefficient de la régression associée à series_documentaire est 0.84\n",
      "le coefficient de la régression associée à series_dramatique est -0.33\n",
      "le coefficient de la régression associée à series_romance est -0.34\n",
      "le coefficient de la régression associée à series_shōnen est 0.56\n",
      "le coefficient de la régression associée à series_seinen est 0.45\n",
      "le coefficient de la régression associée à series_fantastique est -0.00\n",
      "le coefficient de la régression associée à series_science-fiction est -0.29\n",
      "le coefficient de la régression associée à printemps_bin est 0.12\n",
      "le coefficient de la régression associée à été_bin est -0.13\n",
      "le coefficient de la régression associée à automne_bin est -0.12\n",
      "le coefficient de la régression associée à hiver_bin est 0.13\n"
     ]
    }
   ],
   "source": [
    "for k in range(len(var2)):\n",
    "    print('le coefficient de la régression associée à '+var2[k]+' est %.2f'\n",
    "          % ols.coef_[k])"
   ]
  },
  {
   "cell_type": "markdown",
   "metadata": {},
   "source": [
    "On remarque que la nouvelle régression a changé les coefficients de certains genres"
   ]
  },
  {
   "cell_type": "markdown",
   "metadata": {},
   "source": [
    "Pour certains genres (policier, drame, guerre, science-fiction...), cette transformation a augmenté leur coefficient. Pour d'autres (documentaires, mini-série...), ça l'a abaissé."
   ]
  },
  {
   "cell_type": "markdown",
   "metadata": {},
   "source": [
    "Ainsi, bien que les variations ne dépassent pas souvent 0.1, on peut voir une influence combinée des genres pour déterminer la note, les genres que l'on a éliminé apparaissant toujours avec d'autres dans le descriptif d'une série."
   ]
  },
  {
   "cell_type": "code",
   "execution_count": 22,
   "metadata": {},
   "outputs": [
    {
     "name": "stdout",
     "output_type": "stream",
     "text": [
      "Mean squared error: 0.61\n",
      "Coefficient of determination: 0.17\n"
     ]
    }
   ],
   "source": [
    "rmse = sklearn.metrics.mean_squared_error(y_test, y_pred)\n",
    "rsq = sklearn.metrics.r2_score(y_test, y_pred) \n",
    "\n",
    "print('Mean squared error: %.2f'\n",
    "      % rmse)\n",
    "print('Coefficient of determination: %.2f'\n",
    "      % rsq)"
   ]
  },
  {
   "cell_type": "markdown",
   "metadata": {},
   "source": [
    "On obtient une erreur quadratique légèrement plus importante, et un coefficient de détermination légèrement plus important, mais étant donné que les genres que l'on oublie ne comptent que pour un nombre faible de séries (pas plus de 10), le gain en temps de traitement est minime"
   ]
  }
 ],
 "metadata": {
  "kernelspec": {
   "display_name": "Python 3",
   "language": "python",
   "name": "python3"
  },
  "language_info": {
   "codemirror_mode": {
    "name": "ipython",
    "version": 3
   },
   "file_extension": ".py",
   "mimetype": "text/x-python",
   "name": "python",
   "nbconvert_exporter": "python",
   "pygments_lexer": "ipython3",
   "version": "3.7.3"
  }
 },
 "nbformat": 4,
 "nbformat_minor": 2
}
